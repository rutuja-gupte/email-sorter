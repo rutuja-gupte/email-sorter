{
 "cells": [
  {
   "cell_type": "code",
   "execution_count": 6,
   "id": "e600aad0",
   "metadata": {},
   "outputs": [
    {
     "name": "stdout",
     "output_type": "stream",
     "text": [
      "Please visit this URL to authorize this application: https://accounts.google.com/o/oauth2/auth?response_type=code&client_id=624469051608-4ifun3s1k074vrsv1grjdaa0d5e7qitg.apps.googleusercontent.com&redirect_uri=http%3A%2F%2Flocalhost%3A53454%2F&scope=https%3A%2F%2Fwww.googleapis.com%2Fauth%2Fgmail.modify&state=6pWyDlR0G26eKZmkKOHDPA7ziN5cV1&access_type=offline\n",
      "Message Id: 18ddc5aa460b575b\n"
     ]
    }
   ],
   "source": [
    "%run send_trial-Copy1.py"
   ]
  },
  {
   "cell_type": "code",
   "execution_count": null,
   "id": "fb22f24f",
   "metadata": {},
   "outputs": [],
   "source": []
  }
 ],
 "metadata": {
  "kernelspec": {
   "display_name": "Python 3 (ipykernel)",
   "language": "python",
   "name": "python3"
  },
  "language_info": {
   "codemirror_mode": {
    "name": "ipython",
    "version": 3
   },
   "file_extension": ".py",
   "mimetype": "text/x-python",
   "name": "python",
   "nbconvert_exporter": "python",
   "pygments_lexer": "ipython3",
   "version": "3.11.5"
  }
 },
 "nbformat": 4,
 "nbformat_minor": 5
}
